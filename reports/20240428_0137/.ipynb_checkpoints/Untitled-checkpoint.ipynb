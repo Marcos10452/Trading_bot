{
 "cells": [
  {
   "cell_type": "code",
   "execution_count": 3,
   "id": "70e3ee9f-664b-46fd-911b-b54e5875543d",
   "metadata": {},
   "outputs": [
    {
     "ename": "ModuleNotFoundError",
     "evalue": "No module named 'sklearn'",
     "output_type": "error",
     "traceback": [
      "\u001b[0;31m---------------------------------------------------------------------------\u001b[0m",
      "\u001b[0;31mModuleNotFoundError\u001b[0m                       Traceback (most recent call last)",
      "Cell \u001b[0;32mIn[3], line 1\u001b[0m\n\u001b[0;32m----> 1\u001b[0m \u001b[38;5;28;01mfrom\u001b[39;00m \u001b[38;5;21;01msklearn\u001b[39;00m\u001b[38;5;21;01m.\u001b[39;00m\u001b[38;5;21;01mpreproccessing\u001b[39;00m \u001b[38;5;28;01mimport\u001b[39;00m StandardScaler\n",
      "\u001b[0;31mModuleNotFoundError\u001b[0m: No module named 'sklearn'"
     ]
    }
   ],
   "source": [
    "from sklearn.preproccessing import StandardScaler"
   ]
  },
  {
   "cell_type": "code",
   "execution_count": null,
   "id": "bb6fc51c-02c7-4e36-8683-bf3fb123978a",
   "metadata": {},
   "outputs": [],
   "source": [
    "scaler=StandardScaler()"
   ]
  },
  {
   "cell_type": "code",
   "execution_count": null,
   "id": "8fd95066-cb55-4286-bfa8-47fd6739e7ca",
   "metadata": {},
   "outputs": [],
   "source": [
    "#To implemtn PCA, you'll first standarize your dataset. this is to ensure that all variables\n",
    "# have equal weight. You can use libraries like\n",
    "data_scaled=scaler.fit_transform(data)"
   ]
  },
  {
   "cell_type": "code",
   "execution_count": null,
   "id": "4a450ce5-327b-48e0-aeaa-0ebe07949753",
   "metadata": {},
   "outputs": [],
   "source": [
    "#Next, compute the covariance matrix to understand how data points vary\n",
    "# together. You can use numpy to do this."
   ]
  },
  {
   "cell_type": "code",
   "execution_count": null,
   "id": "271d1ac4-1927-43b9-a8d2-1babebb076a3",
   "metadata": {},
   "outputs": [],
   "source": [
    "import numpy as np"
   ]
  },
  {
   "cell_type": "code",
   "execution_count": null,
   "id": "ad18d11a-4629-4fc5-b199-3e5a6878fcef",
   "metadata": {},
   "outputs": [],
   "source": [
    "cov_matrix=np.cov(data_scaled.T)"
   ]
  },
  {
   "cell_type": "code",
   "execution_count": null,
   "id": "d90b265e-7326-432a-bfd2-b69ee2dbb1df",
   "metadata": {},
   "outputs": [],
   "source": [
    "#compute the eigenvalues and eigenvectors of this covariance matrix. the\n",
    "#eigenvectors reprsent the directions of maximum variation and the\n",
    "#eigenvalues represent the magnitude of this variation."
   ]
  },
  {
   "cell_type": "code",
   "execution_count": null,
   "id": "e570761f-6c57-4303-a1d7-77ffb21e9d5e",
   "metadata": {},
   "outputs": [],
   "source": [
    "eigenvalues, eigenvectors= np.linalog.eig(cov_matrix)"
   ]
  },
  {
   "cell_type": "code",
   "execution_count": null,
   "id": "8ab4c821-8f45-44dc-97a8-43756b21a53e",
   "metadata": {},
   "outputs": [],
   "source": [
    "#Sort the eigenvalues and ther corresponding eigenvectors."
   ]
  },
  {
   "cell_type": "code",
   "execution_count": null,
   "id": "83e3a54f-adad-4dad-b021-eca09d3e21c4",
   "metadata": {},
   "outputs": [],
   "source": [
    "#Make a list of (eigenvalue, eigenvector) tuples\n",
    "eigen_pairs=[(np.abs(eigenvalues[i]),eigenvectgors[:,i]) for i in range(len(eigenvalues))]\n",
    "#Sort the (eigenvalue, eigenvector) tuples from high to low\n",
    "eigen_pairs.sort(key=lambda x: x[0], reverse=True)"
   ]
  },
  {
   "cell_type": "code",
   "execution_count": null,
   "id": "6828370f-3b86-4eaa-b8ca-6d2d58912405",
   "metadata": {},
   "outputs": [],
   "source": [
    "#Ginally, select the top k eigenvectors (where k is your number of dimensions),\n",
    "#and use to transform your original dataset"
   ]
  },
  {
   "cell_type": "code",
   "execution_count": null,
   "id": "48c28367-6a91-4dbe-8f57-480dce010bae",
   "metadata": {},
   "outputs": [],
   "source": [
    "matrix_w=np.hstack([eigen_pairs[i][1].reshape(len(eigen_pairs))])\n",
    "transformed_data=matrix_w.T.dot(data_scaled.T).T"
   ]
  },
  {
   "cell_type": "code",
   "execution_count": null,
   "id": "0a395dc1-5584-491e-b979-5411705a77a5",
   "metadata": {},
   "outputs": [],
   "source": [
    "#This will give tyou "
   ]
  },
  {
   "cell_type": "code",
   "execution_count": null,
   "id": "ba5b980d-c7b6-4718-968b-986447013d8e",
   "metadata": {},
   "outputs": [],
   "source": []
  },
  {
   "cell_type": "code",
   "execution_count": null,
   "id": "01ec246f-0f23-4654-9ea4-34a1eca30705",
   "metadata": {},
   "outputs": [],
   "source": []
  }
 ],
 "metadata": {
  "kernelspec": {
   "display_name": "Python 3 (ipykernel)",
   "language": "python",
   "name": "python3"
  },
  "language_info": {
   "codemirror_mode": {
    "name": "ipython",
    "version": 3
   },
   "file_extension": ".py",
   "mimetype": "text/x-python",
   "name": "python",
   "nbconvert_exporter": "python",
   "pygments_lexer": "ipython3",
   "version": "3.10.12"
  }
 },
 "nbformat": 4,
 "nbformat_minor": 5
}
