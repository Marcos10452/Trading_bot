{
 "cells": [
  {
   "cell_type": "code",
   "execution_count": null,
   "id": "2fa0fe07-420d-4f08-b12f-9a845e21b2bc",
   "metadata": {},
   "outputs": [],
   "source": [
    "#https://gym-trading-env.readthedocs.io/en/latest/rl_tutorial.html\n",
    "#https://medium.com/@sthanikamsanthosh1994/custom-gym-environment-stock-trading-for-reinforcement-learning-stable-baseline3-629a489d462d"
   ]
  },
  {
   "cell_type": "code",
   "execution_count": null,
   "id": "40e68878-e414-43eb-bf14-e9f0b4bf500a",
   "metadata": {},
   "outputs": [],
   "source": []
  },
  {
   "cell_type": "markdown",
   "id": "c8634f79-9ca8-4d8e-b8dc-27618632a225",
   "metadata": {},
   "source": [
    "### Understand the action space\n",
    "Positions\n",
    "I have seen many environments that consider actions such as BUY, SELL. In my experience, it is a mistake to consider a reinforcement learning agent in the same way as a trader. Because, behind a trade, what really matter is the : position reached. In the environment, we label each position by a number : (example with pair BTC/USD)\n",
    "\n",
    "1 : All of our portfolio is converted into BTC. (=BUY ALL)\n",
    "\n",
    "0 : All of our portfolio is converted into USD. (=SELL ALL)\n",
    "\n",
    "Now, we can imagine half position and other variants :\n",
    "\n",
    "0.5 : 50% in BTC & 50% in USD\n",
    "\n",
    "Even : 0.1 : 10% in BTC & 90% in USD …."
   ]
  },
  {
   "cell_type": "markdown",
   "id": "47f61393-674d-46dd-949a-8c9a674af7aa",
   "metadata": {},
   "source": [
    "# ------------------------------------ Trading Bot --------------------------------------"
   ]
  },
  {
   "cell_type": "code",
   "execution_count": 1,
   "id": "15689aa4-3455-4af4-a9fc-1603fb2fc223",
   "metadata": {},
   "outputs": [],
   "source": [
    "import os\n",
    "os.environ['TF_CPP_MIN_LOG_LEVEL'] = '3' \n",
    "import logging #logger\n",
    "#https://www.youtube.com/watch?v=SMZfgeHFFcA\n",
    "import numpy as np\n",
    "import tensorflow as tf\n",
    "from tensorflow.keras.models import load_model\n",
    "#from network import DeepQNetwork\n",
    "#from replay_memory import ReplayBuffer\n",
    "#tf.get_logger().setLevel('ERROR')\n",
    "\n",
    "import pandas as pd\n",
    "import time"
   ]
  },
  {
   "cell_type": "code",
   "execution_count": 2,
   "id": "51da5a66-c8e7-432a-bcdb-2184b125a62e",
   "metadata": {},
   "outputs": [],
   "source": [
    "import warnings\n",
    "warnings.filterwarnings(\"ignore\", category=DeprecationWarning) "
   ]
  },
  {
   "cell_type": "code",
   "execution_count": 3,
   "id": "a1941d1c-fddc-44a7-83c6-061a69f4d7b4",
   "metadata": {},
   "outputs": [],
   "source": [
    "import datetime"
   ]
  },
  {
   "cell_type": "code",
   "execution_count": 4,
   "id": "676fd4b0-ac7c-4ad4-a9ab-d4ef3d602ef7",
   "metadata": {},
   "outputs": [],
   "source": [
    "from src.env.environment import *\n",
    "from src.env.portfolio import *\n",
    "from src.utils.utils import *\n",
    "from src.agent.agent import *"
   ]
  },
  {
   "cell_type": "code",
   "execution_count": 5,
   "id": "28bcc2f6-1d9c-4936-9aef-83bb3cd281ff",
   "metadata": {},
   "outputs": [],
   "source": [
    "from settings import *"
   ]
  },
  {
   "cell_type": "code",
   "execution_count": 6,
   "id": "7f7ffd43-1fa0-4cf5-a9b8-e569f998e446",
   "metadata": {},
   "outputs": [],
   "source": [
    "#from pandas.tseries.holiday import USFederalHolidayCalendar"
   ]
  },
  {
   "cell_type": "code",
   "execution_count": 7,
   "id": "0bbdb3a7-c9a4-43d7-9db1-525854a80838",
   "metadata": {},
   "outputs": [],
   "source": [
    "import psycopg2 as pg"
   ]
  },
  {
   "cell_type": "code",
   "execution_count": 8,
   "id": "df40612e-9485-4766-ac9a-22799813030f",
   "metadata": {},
   "outputs": [],
   "source": [
    "from prettytable import PrettyTable"
   ]
  },
  {
   "cell_type": "code",
   "execution_count": 9,
   "id": "629e873b-4cba-4b2f-a996-35dad30c7874",
   "metadata": {},
   "outputs": [],
   "source": [
    "# »»»»»»»»»»»»»»»»» STOCKS ««««««««««««««««««««z\n",
    "\n",
    "STOCKS={'amazon':'AMZN','apple':'AAPL','netflix':'NFLX','google':'GOOG','Accenture':'ACN',\n",
    "       'alibaba':'BABA','Turtle Beach':'HEAR','Disney':'DIS',\n",
    "       'LG Display':'LPL','microsoft':'MICS','sony':'SONY',\n",
    "       'Cenovus Energy':'CVE','YPF':'YPF','SHELL':'SHEL','Petrobras':'PBR',\n",
    "       'Coca-Cola':'KO','PespsiCo':'PEP','Unilever':'UL','Kimberly-Clark':'KMB',\n",
    "       'Mondelez':'MDLZ'}\n",
    "\n",
    "#STOCKS = {'amazon':'AMZN'}\n",
    "\n",
    "# dir where parquete file will be created\n",
    "stocks_dir = '/dataset/stocks_aux/'\n",
    "\n",
    "#*****************************************************************"
   ]
  },
  {
   "cell_type": "code",
   "execution_count": 10,
   "id": "e8b0bafd-ee3d-43cc-9a5b-a830952f4a84",
   "metadata": {},
   "outputs": [],
   "source": [
    "def turn_of_logger():\n",
    "    logger=logging.getLogger()\n",
    "    for handler in logger.handlers[:]:  #make a copy of the list\n",
    "        logger.removeHandler(handler)\n",
    "    return logger"
   ]
  },
  {
   "cell_type": "code",
   "execution_count": 11,
   "id": "f24f8a0a-c1fb-47c2-84d5-eb10d5d7697b",
   "metadata": {},
   "outputs": [],
   "source": [
    "strin_format='%(i)s, %(market_return)s,%(pr)s,%(Sharpe)s,%(score)s,%(avg_score)s,%(best_score)s,%(loss)s,%(n_steps)s,%(pr_val)s,%(score_val)s, %(avg_score_val)s'\n",
    "def initLogging(filename, logger_name):\n",
    "    logger=turn_of_logger()\n",
    "    logger.setLevel(logging.DEBUG)\n",
    "    formatter=logging.Formatter(fmt='%(asctime)s,%(message)s',datefmt='%Y-%m-%d,%H:%M:%S')\n",
    "    #formatter=logging.Formatter(fmt='%(message)s')\n",
    "    fh=logging.FileHandler(filename)\n",
    "    fh.setFormatter(formatter)\n",
    "    logger.addHandler(fh)\n",
    "    return logger\n",
    "\n",
    "\n",
    "    # sh=logging.StreamHandler(sys.stdout)\n",
    "    # sh.setFormatter(formatter)\n",
    "    # logger.addHandler(sh)\n"
   ]
  },
  {
   "cell_type": "markdown",
   "id": "8ceab0bd-7982-4d37-a92a-157616c40fea",
   "metadata": {},
   "source": [
    "### ------------------------------- Reading and preparing data -----------------------------------------"
   ]
  },
  {
   "cell_type": "code",
   "execution_count": 12,
   "id": "7f603c19-23be-4857-91ed-8f728eb7437b",
   "metadata": {},
   "outputs": [
    {
     "data": {
      "text/plain": [
       "(6630, 35)"
      ]
     },
     "execution_count": 12,
     "metadata": {},
     "output_type": "execute_result"
    }
   ],
   "source": [
    "df_training=pd.read_parquet(\"./data/raw/data_for_model_v2.parquet\")\n",
    "df_training.shape"
   ]
  },
  {
   "cell_type": "code",
   "execution_count": 13,
   "id": "d26a113e-bac6-4055-9459-cc13f16330aa",
   "metadata": {},
   "outputs": [
    {
     "data": {
      "text/plain": [
       "True"
      ]
     },
     "execution_count": 13,
     "metadata": {},
     "output_type": "execute_result"
    }
   ],
   "source": [
    "#check if index is sorted. if yes ==Ture\n",
    "df_training.datetime.is_monotonic_increasing"
   ]
  },
  {
   "cell_type": "code",
   "execution_count": 14,
   "id": "ee3ce73e-f12f-4efb-86a4-e3ea0407c4ff",
   "metadata": {},
   "outputs": [
    {
     "data": {
      "text/html": [
       "<div>\n",
       "<style scoped>\n",
       "    .dataframe tbody tr th:only-of-type {\n",
       "        vertical-align: middle;\n",
       "    }\n",
       "\n",
       "    .dataframe tbody tr th {\n",
       "        vertical-align: top;\n",
       "    }\n",
       "\n",
       "    .dataframe thead th {\n",
       "        text-align: right;\n",
       "    }\n",
       "</style>\n",
       "<table border=\"1\" class=\"dataframe\">\n",
       "  <thead>\n",
       "    <tr style=\"text-align: right;\">\n",
       "      <th></th>\n",
       "      <th>ticker</th>\n",
       "      <th>datetime</th>\n",
       "      <th>date</th>\n",
       "      <th>hour</th>\n",
       "      <th>holidays</th>\n",
       "      <th>n_weekday</th>\n",
       "      <th>n_hour</th>\n",
       "      <th>open</th>\n",
       "      <th>high</th>\n",
       "      <th>low</th>\n",
       "      <th>...</th>\n",
       "      <th>source10_y</th>\n",
       "      <th>source9_y</th>\n",
       "      <th>source8_y</th>\n",
       "      <th>source7_y</th>\n",
       "      <th>source6_y</th>\n",
       "      <th>source5_y</th>\n",
       "      <th>source4_y</th>\n",
       "      <th>source3_y</th>\n",
       "      <th>source2_y</th>\n",
       "      <th>source1_y</th>\n",
       "    </tr>\n",
       "  </thead>\n",
       "  <tbody>\n",
       "    <tr>\n",
       "      <th>3</th>\n",
       "      <td>AAPL</td>\n",
       "      <td>2022-04-06 07:00:00</td>\n",
       "      <td>2022-04-06</td>\n",
       "      <td>07:00:00</td>\n",
       "      <td>0</td>\n",
       "      <td>2</td>\n",
       "      <td>7</td>\n",
       "      <td>173.330000</td>\n",
       "      <td>173.350000</td>\n",
       "      <td>172.500000</td>\n",
       "      <td>...</td>\n",
       "      <td>0.000000</td>\n",
       "      <td>0.0</td>\n",
       "      <td>0.0</td>\n",
       "      <td>0.0</td>\n",
       "      <td>0.000000</td>\n",
       "      <td>0.0</td>\n",
       "      <td>0.0</td>\n",
       "      <td>0.000000</td>\n",
       "      <td>0.0</td>\n",
       "      <td>0.0</td>\n",
       "    </tr>\n",
       "    <tr>\n",
       "      <th>4</th>\n",
       "      <td>AAPL</td>\n",
       "      <td>2022-04-06 08:00:00</td>\n",
       "      <td>2022-04-06</td>\n",
       "      <td>08:00:00</td>\n",
       "      <td>0</td>\n",
       "      <td>2</td>\n",
       "      <td>8</td>\n",
       "      <td>172.690000</td>\n",
       "      <td>175.230000</td>\n",
       "      <td>172.000000</td>\n",
       "      <td>...</td>\n",
       "      <td>0.000000</td>\n",
       "      <td>0.0</td>\n",
       "      <td>0.0</td>\n",
       "      <td>0.0</td>\n",
       "      <td>0.000000</td>\n",
       "      <td>0.0</td>\n",
       "      <td>0.0</td>\n",
       "      <td>0.000000</td>\n",
       "      <td>0.0</td>\n",
       "      <td>0.0</td>\n",
       "    </tr>\n",
       "    <tr>\n",
       "      <th>5</th>\n",
       "      <td>AAPL</td>\n",
       "      <td>2022-04-06 09:00:00</td>\n",
       "      <td>2022-04-06</td>\n",
       "      <td>09:00:00</td>\n",
       "      <td>0</td>\n",
       "      <td>2</td>\n",
       "      <td>9</td>\n",
       "      <td>172.360001</td>\n",
       "      <td>173.139999</td>\n",
       "      <td>171.020004</td>\n",
       "      <td>...</td>\n",
       "      <td>0.000000</td>\n",
       "      <td>0.0</td>\n",
       "      <td>0.0</td>\n",
       "      <td>0.0</td>\n",
       "      <td>0.362349</td>\n",
       "      <td>0.0</td>\n",
       "      <td>0.0</td>\n",
       "      <td>0.000000</td>\n",
       "      <td>0.0</td>\n",
       "      <td>0.0</td>\n",
       "    </tr>\n",
       "    <tr>\n",
       "      <th>6</th>\n",
       "      <td>AAPL</td>\n",
       "      <td>2022-04-06 10:00:00</td>\n",
       "      <td>2022-04-06</td>\n",
       "      <td>10:00:00</td>\n",
       "      <td>0</td>\n",
       "      <td>2</td>\n",
       "      <td>10</td>\n",
       "      <td>171.130005</td>\n",
       "      <td>171.580002</td>\n",
       "      <td>170.130005</td>\n",
       "      <td>...</td>\n",
       "      <td>-0.203831</td>\n",
       "      <td>0.0</td>\n",
       "      <td>0.0</td>\n",
       "      <td>0.0</td>\n",
       "      <td>0.000000</td>\n",
       "      <td>0.0</td>\n",
       "      <td>0.0</td>\n",
       "      <td>0.000000</td>\n",
       "      <td>0.0</td>\n",
       "      <td>0.0</td>\n",
       "    </tr>\n",
       "    <tr>\n",
       "      <th>7</th>\n",
       "      <td>AAPL</td>\n",
       "      <td>2022-04-06 11:00:00</td>\n",
       "      <td>2022-04-06</td>\n",
       "      <td>11:00:00</td>\n",
       "      <td>0</td>\n",
       "      <td>2</td>\n",
       "      <td>11</td>\n",
       "      <td>170.839996</td>\n",
       "      <td>171.740005</td>\n",
       "      <td>170.490005</td>\n",
       "      <td>...</td>\n",
       "      <td>0.027694</td>\n",
       "      <td>0.0</td>\n",
       "      <td>0.0</td>\n",
       "      <td>0.0</td>\n",
       "      <td>0.000000</td>\n",
       "      <td>0.0</td>\n",
       "      <td>0.0</td>\n",
       "      <td>-0.000264</td>\n",
       "      <td>0.0</td>\n",
       "      <td>0.0</td>\n",
       "    </tr>\n",
       "  </tbody>\n",
       "</table>\n",
       "<p>5 rows × 35 columns</p>\n",
       "</div>"
      ],
      "text/plain": [
       "  ticker            datetime        date      hour  holidays  n_weekday  \\\n",
       "3   AAPL 2022-04-06 07:00:00  2022-04-06  07:00:00         0          2   \n",
       "4   AAPL 2022-04-06 08:00:00  2022-04-06  08:00:00         0          2   \n",
       "5   AAPL 2022-04-06 09:00:00  2022-04-06  09:00:00         0          2   \n",
       "6   AAPL 2022-04-06 10:00:00  2022-04-06  10:00:00         0          2   \n",
       "7   AAPL 2022-04-06 11:00:00  2022-04-06  11:00:00         0          2   \n",
       "\n",
       "   n_hour        open        high         low  ...  source10_y  source9_y  \\\n",
       "3       7  173.330000  173.350000  172.500000  ...    0.000000        0.0   \n",
       "4       8  172.690000  175.230000  172.000000  ...    0.000000        0.0   \n",
       "5       9  172.360001  173.139999  171.020004  ...    0.000000        0.0   \n",
       "6      10  171.130005  171.580002  170.130005  ...   -0.203831        0.0   \n",
       "7      11  170.839996  171.740005  170.490005  ...    0.027694        0.0   \n",
       "\n",
       "   source8_y  source7_y  source6_y  source5_y  source4_y  source3_y  \\\n",
       "3        0.0        0.0   0.000000        0.0        0.0   0.000000   \n",
       "4        0.0        0.0   0.000000        0.0        0.0   0.000000   \n",
       "5        0.0        0.0   0.362349        0.0        0.0   0.000000   \n",
       "6        0.0        0.0   0.000000        0.0        0.0   0.000000   \n",
       "7        0.0        0.0   0.000000        0.0        0.0  -0.000264   \n",
       "\n",
       "   source2_y  source1_y  \n",
       "3        0.0        0.0  \n",
       "4        0.0        0.0  \n",
       "5        0.0        0.0  \n",
       "6        0.0        0.0  \n",
       "7        0.0        0.0  \n",
       "\n",
       "[5 rows x 35 columns]"
      ]
     },
     "execution_count": 14,
     "metadata": {},
     "output_type": "execute_result"
    }
   ],
   "source": [
    "df_training.head(5)"
   ]
  },
  {
   "cell_type": "code",
   "execution_count": 15,
   "id": "4943f69e-e221-407e-b92a-4ab47a1fc0a5",
   "metadata": {},
   "outputs": [],
   "source": [
    "#df_training=df_training[(df_training.relevance_score>=0.5]"
   ]
  },
  {
   "cell_type": "code",
   "execution_count": 16,
   "id": "4de18eb5-c018-4dd6-9f62-098d15563f2b",
   "metadata": {},
   "outputs": [],
   "source": [
    "#df_training.loc[0:1,['volume']]=1"
   ]
  },
  {
   "cell_type": "code",
   "execution_count": 17,
   "id": "da20d2ec-acef-414e-a380-191229a07b6e",
   "metadata": {},
   "outputs": [],
   "source": [
    "#Because I am not using all data, I can fill in with other value different from 0. The first value never will be 0.\n",
    "df_training['volume'] = df_training['volume'].replace(0, np.nan).ffill()"
   ]
  },
  {
   "cell_type": "code",
   "execution_count": 18,
   "id": "0cbd0469-a502-4a21-8f91-1234785739e9",
   "metadata": {},
   "outputs": [],
   "source": [
    "#check 80% of split in days\n",
    "split_value=int(len(df_training)*0.9)"
   ]
  },
  {
   "cell_type": "code",
   "execution_count": 19,
   "id": "08b2a3dd-5cbb-4df8-a7b3-727a08251390",
   "metadata": {},
   "outputs": [
    {
     "data": {
      "text/plain": [
       "16023    2024-02-02\n",
       "Name: date, dtype: object"
      ]
     },
     "execution_count": 19,
     "metadata": {},
     "output_type": "execute_result"
    }
   ],
   "source": [
    "df_training.iloc[split_value-1:split_value,:]['date']"
   ]
  },
  {
   "cell_type": "code",
   "execution_count": 20,
   "id": "ef8ce406-703e-4764-8b87-19062a383b90",
   "metadata": {},
   "outputs": [
    {
     "name": "stdout",
     "output_type": "stream",
     "text": [
      "Validation:  (663, 35)\n",
      "True\n",
      "Training:  (5954, 35)\n",
      "True\n"
     ]
    }
   ],
   "source": [
    "#filter the dates where sentiment is not available\n",
    "\n",
    "#Select Validation first\n",
    "df_validation=df_training[(df_training.date>=datetime.date(2024,2,3))&(df_training.date<=datetime.date(2024,4,25))]\n",
    "print(\"Validation: \",df_validation.shape)\n",
    "#check if index is sorted. if yes ==Ture\n",
    "print(df_validation.datetime.is_monotonic_increasing)\n",
    "# selece Traning second -check to improve this\n",
    "df_training=df_training[(df_training.date>=datetime.date(2022,1,1))&(df_training.date<datetime.date(2024,2,2))]\n",
    "#df_training=df_training[(df_training.date>=datetime.date(2024,1,1))&(df_training.date<datetime.date(2024,4,2))]\n",
    "print(\"Training: \",df_training.shape)\n",
    "#check if index is sorted. if yes ==Ture\n",
    "print(df_training.datetime.is_monotonic_increasing)"
   ]
  },
  {
   "cell_type": "code",
   "execution_count": 21,
   "id": "a986a2ca-3f9f-430c-ae32-85373cbee435",
   "metadata": {},
   "outputs": [
    {
     "data": {
      "text/html": [
       "<div>\n",
       "<style scoped>\n",
       "    .dataframe tbody tr th:only-of-type {\n",
       "        vertical-align: middle;\n",
       "    }\n",
       "\n",
       "    .dataframe tbody tr th {\n",
       "        vertical-align: top;\n",
       "    }\n",
       "\n",
       "    .dataframe thead th {\n",
       "        text-align: right;\n",
       "    }\n",
       "</style>\n",
       "<table border=\"1\" class=\"dataframe\">\n",
       "  <thead>\n",
       "    <tr style=\"text-align: right;\">\n",
       "      <th></th>\n",
       "      <th>ticker</th>\n",
       "      <th>datetime</th>\n",
       "      <th>date</th>\n",
       "      <th>hour</th>\n",
       "      <th>holidays</th>\n",
       "      <th>n_weekday</th>\n",
       "      <th>n_hour</th>\n",
       "      <th>open</th>\n",
       "      <th>high</th>\n",
       "      <th>low</th>\n",
       "      <th>...</th>\n",
       "      <th>source10_y</th>\n",
       "      <th>source9_y</th>\n",
       "      <th>source8_y</th>\n",
       "      <th>source7_y</th>\n",
       "      <th>source6_y</th>\n",
       "      <th>source5_y</th>\n",
       "      <th>source4_y</th>\n",
       "      <th>source3_y</th>\n",
       "      <th>source2_y</th>\n",
       "      <th>source1_y</th>\n",
       "    </tr>\n",
       "  </thead>\n",
       "  <tbody>\n",
       "    <tr>\n",
       "      <th>16083</th>\n",
       "      <td>AAPL</td>\n",
       "      <td>2024-02-05 07:00:00</td>\n",
       "      <td>2024-02-05</td>\n",
       "      <td>07:00:00</td>\n",
       "      <td>0</td>\n",
       "      <td>0</td>\n",
       "      <td>7</td>\n",
       "      <td>186.300000</td>\n",
       "      <td>187.400000</td>\n",
       "      <td>185.780000</td>\n",
       "      <td>...</td>\n",
       "      <td>0.523133</td>\n",
       "      <td>0.000000</td>\n",
       "      <td>0.000000</td>\n",
       "      <td>0.000000</td>\n",
       "      <td>0.000000</td>\n",
       "      <td>0.0</td>\n",
       "      <td>0.0</td>\n",
       "      <td>0.0</td>\n",
       "      <td>0.0</td>\n",
       "      <td>0.0</td>\n",
       "    </tr>\n",
       "    <tr>\n",
       "      <th>16084</th>\n",
       "      <td>AAPL</td>\n",
       "      <td>2024-02-05 08:00:00</td>\n",
       "      <td>2024-02-05</td>\n",
       "      <td>08:00:00</td>\n",
       "      <td>0</td>\n",
       "      <td>0</td>\n",
       "      <td>8</td>\n",
       "      <td>186.870000</td>\n",
       "      <td>187.580000</td>\n",
       "      <td>184.630000</td>\n",
       "      <td>...</td>\n",
       "      <td>0.422161</td>\n",
       "      <td>0.000000</td>\n",
       "      <td>0.000000</td>\n",
       "      <td>0.000000</td>\n",
       "      <td>0.000000</td>\n",
       "      <td>0.0</td>\n",
       "      <td>0.0</td>\n",
       "      <td>0.0</td>\n",
       "      <td>0.0</td>\n",
       "      <td>0.0</td>\n",
       "    </tr>\n",
       "    <tr>\n",
       "      <th>16085</th>\n",
       "      <td>AAPL</td>\n",
       "      <td>2024-02-05 09:00:00</td>\n",
       "      <td>2024-02-05</td>\n",
       "      <td>09:00:00</td>\n",
       "      <td>0</td>\n",
       "      <td>0</td>\n",
       "      <td>9</td>\n",
       "      <td>188.149994</td>\n",
       "      <td>188.360001</td>\n",
       "      <td>185.839996</td>\n",
       "      <td>...</td>\n",
       "      <td>0.000000</td>\n",
       "      <td>0.000000</td>\n",
       "      <td>0.000000</td>\n",
       "      <td>0.000000</td>\n",
       "      <td>0.000000</td>\n",
       "      <td>0.0</td>\n",
       "      <td>0.0</td>\n",
       "      <td>0.0</td>\n",
       "      <td>0.0</td>\n",
       "      <td>0.0</td>\n",
       "    </tr>\n",
       "    <tr>\n",
       "      <th>16086</th>\n",
       "      <td>AAPL</td>\n",
       "      <td>2024-02-05 10:00:00</td>\n",
       "      <td>2024-02-05</td>\n",
       "      <td>10:00:00</td>\n",
       "      <td>0</td>\n",
       "      <td>0</td>\n",
       "      <td>10</td>\n",
       "      <td>186.669998</td>\n",
       "      <td>187.759995</td>\n",
       "      <td>186.110001</td>\n",
       "      <td>...</td>\n",
       "      <td>0.350849</td>\n",
       "      <td>0.152268</td>\n",
       "      <td>0.000000</td>\n",
       "      <td>0.000000</td>\n",
       "      <td>0.000000</td>\n",
       "      <td>0.0</td>\n",
       "      <td>0.0</td>\n",
       "      <td>0.0</td>\n",
       "      <td>0.0</td>\n",
       "      <td>0.0</td>\n",
       "    </tr>\n",
       "    <tr>\n",
       "      <th>16087</th>\n",
       "      <td>AAPL</td>\n",
       "      <td>2024-02-05 11:00:00</td>\n",
       "      <td>2024-02-05</td>\n",
       "      <td>11:00:00</td>\n",
       "      <td>0</td>\n",
       "      <td>0</td>\n",
       "      <td>11</td>\n",
       "      <td>187.250000</td>\n",
       "      <td>188.490005</td>\n",
       "      <td>187.230103</td>\n",
       "      <td>...</td>\n",
       "      <td>-0.031302</td>\n",
       "      <td>0.000000</td>\n",
       "      <td>0.000000</td>\n",
       "      <td>0.090812</td>\n",
       "      <td>0.046833</td>\n",
       "      <td>0.0</td>\n",
       "      <td>0.0</td>\n",
       "      <td>0.0</td>\n",
       "      <td>0.0</td>\n",
       "      <td>0.0</td>\n",
       "    </tr>\n",
       "    <tr>\n",
       "      <th>...</th>\n",
       "      <td>...</td>\n",
       "      <td>...</td>\n",
       "      <td>...</td>\n",
       "      <td>...</td>\n",
       "      <td>...</td>\n",
       "      <td>...</td>\n",
       "      <td>...</td>\n",
       "      <td>...</td>\n",
       "      <td>...</td>\n",
       "      <td>...</td>\n",
       "      <td>...</td>\n",
       "      <td>...</td>\n",
       "      <td>...</td>\n",
       "      <td>...</td>\n",
       "      <td>...</td>\n",
       "      <td>...</td>\n",
       "      <td>...</td>\n",
       "      <td>...</td>\n",
       "      <td>...</td>\n",
       "      <td>...</td>\n",
       "      <td>...</td>\n",
       "    </tr>\n",
       "    <tr>\n",
       "      <th>17731</th>\n",
       "      <td>AAPL</td>\n",
       "      <td>2024-04-16 15:00:00</td>\n",
       "      <td>2024-04-16</td>\n",
       "      <td>15:00:00</td>\n",
       "      <td>0</td>\n",
       "      <td>1</td>\n",
       "      <td>15</td>\n",
       "      <td>169.990005</td>\n",
       "      <td>170.014999</td>\n",
       "      <td>169.279999</td>\n",
       "      <td>...</td>\n",
       "      <td>0.000000</td>\n",
       "      <td>0.000000</td>\n",
       "      <td>0.000000</td>\n",
       "      <td>0.000000</td>\n",
       "      <td>0.000000</td>\n",
       "      <td>0.0</td>\n",
       "      <td>0.0</td>\n",
       "      <td>0.0</td>\n",
       "      <td>0.0</td>\n",
       "      <td>0.0</td>\n",
       "    </tr>\n",
       "    <tr>\n",
       "      <th>17732</th>\n",
       "      <td>AAPL</td>\n",
       "      <td>2024-04-16 16:00:00</td>\n",
       "      <td>2024-04-16</td>\n",
       "      <td>16:00:00</td>\n",
       "      <td>0</td>\n",
       "      <td>1</td>\n",
       "      <td>16</td>\n",
       "      <td>169.340000</td>\n",
       "      <td>177.000000</td>\n",
       "      <td>162.223200</td>\n",
       "      <td>...</td>\n",
       "      <td>0.000000</td>\n",
       "      <td>0.000000</td>\n",
       "      <td>0.000000</td>\n",
       "      <td>0.345585</td>\n",
       "      <td>0.000000</td>\n",
       "      <td>0.0</td>\n",
       "      <td>0.0</td>\n",
       "      <td>0.0</td>\n",
       "      <td>0.0</td>\n",
       "      <td>0.0</td>\n",
       "    </tr>\n",
       "    <tr>\n",
       "      <th>17733</th>\n",
       "      <td>AAPL</td>\n",
       "      <td>2024-04-16 17:00:00</td>\n",
       "      <td>2024-04-16</td>\n",
       "      <td>17:00:00</td>\n",
       "      <td>0</td>\n",
       "      <td>1</td>\n",
       "      <td>17</td>\n",
       "      <td>169.500000</td>\n",
       "      <td>169.710000</td>\n",
       "      <td>169.370000</td>\n",
       "      <td>...</td>\n",
       "      <td>0.000000</td>\n",
       "      <td>0.000000</td>\n",
       "      <td>0.000000</td>\n",
       "      <td>0.000000</td>\n",
       "      <td>0.000000</td>\n",
       "      <td>0.0</td>\n",
       "      <td>0.0</td>\n",
       "      <td>0.0</td>\n",
       "      <td>0.0</td>\n",
       "      <td>0.0</td>\n",
       "    </tr>\n",
       "    <tr>\n",
       "      <th>17734</th>\n",
       "      <td>AAPL</td>\n",
       "      <td>2024-04-16 18:00:00</td>\n",
       "      <td>2024-04-16</td>\n",
       "      <td>18:00:00</td>\n",
       "      <td>0</td>\n",
       "      <td>1</td>\n",
       "      <td>18</td>\n",
       "      <td>169.475000</td>\n",
       "      <td>169.690000</td>\n",
       "      <td>169.380000</td>\n",
       "      <td>...</td>\n",
       "      <td>0.000000</td>\n",
       "      <td>0.000000</td>\n",
       "      <td>-0.134847</td>\n",
       "      <td>0.000000</td>\n",
       "      <td>0.000000</td>\n",
       "      <td>0.0</td>\n",
       "      <td>0.0</td>\n",
       "      <td>0.0</td>\n",
       "      <td>0.0</td>\n",
       "      <td>0.0</td>\n",
       "    </tr>\n",
       "    <tr>\n",
       "      <th>17735</th>\n",
       "      <td>AAPL</td>\n",
       "      <td>2024-04-16 19:00:00</td>\n",
       "      <td>2024-04-16</td>\n",
       "      <td>19:00:00</td>\n",
       "      <td>0</td>\n",
       "      <td>1</td>\n",
       "      <td>19</td>\n",
       "      <td>169.655000</td>\n",
       "      <td>169.920000</td>\n",
       "      <td>169.610000</td>\n",
       "      <td>...</td>\n",
       "      <td>0.000000</td>\n",
       "      <td>0.000000</td>\n",
       "      <td>0.000000</td>\n",
       "      <td>0.000000</td>\n",
       "      <td>0.000000</td>\n",
       "      <td>0.0</td>\n",
       "      <td>0.0</td>\n",
       "      <td>0.0</td>\n",
       "      <td>0.0</td>\n",
       "      <td>0.0</td>\n",
       "    </tr>\n",
       "  </tbody>\n",
       "</table>\n",
       "<p>663 rows × 35 columns</p>\n",
       "</div>"
      ],
      "text/plain": [
       "      ticker            datetime        date      hour  holidays  n_weekday  \\\n",
       "16083   AAPL 2024-02-05 07:00:00  2024-02-05  07:00:00         0          0   \n",
       "16084   AAPL 2024-02-05 08:00:00  2024-02-05  08:00:00         0          0   \n",
       "16085   AAPL 2024-02-05 09:00:00  2024-02-05  09:00:00         0          0   \n",
       "16086   AAPL 2024-02-05 10:00:00  2024-02-05  10:00:00         0          0   \n",
       "16087   AAPL 2024-02-05 11:00:00  2024-02-05  11:00:00         0          0   \n",
       "...      ...                 ...         ...       ...       ...        ...   \n",
       "17731   AAPL 2024-04-16 15:00:00  2024-04-16  15:00:00         0          1   \n",
       "17732   AAPL 2024-04-16 16:00:00  2024-04-16  16:00:00         0          1   \n",
       "17733   AAPL 2024-04-16 17:00:00  2024-04-16  17:00:00         0          1   \n",
       "17734   AAPL 2024-04-16 18:00:00  2024-04-16  18:00:00         0          1   \n",
       "17735   AAPL 2024-04-16 19:00:00  2024-04-16  19:00:00         0          1   \n",
       "\n",
       "       n_hour        open        high         low  ...  source10_y  source9_y  \\\n",
       "16083       7  186.300000  187.400000  185.780000  ...    0.523133   0.000000   \n",
       "16084       8  186.870000  187.580000  184.630000  ...    0.422161   0.000000   \n",
       "16085       9  188.149994  188.360001  185.839996  ...    0.000000   0.000000   \n",
       "16086      10  186.669998  187.759995  186.110001  ...    0.350849   0.152268   \n",
       "16087      11  187.250000  188.490005  187.230103  ...   -0.031302   0.000000   \n",
       "...       ...         ...         ...         ...  ...         ...        ...   \n",
       "17731      15  169.990005  170.014999  169.279999  ...    0.000000   0.000000   \n",
       "17732      16  169.340000  177.000000  162.223200  ...    0.000000   0.000000   \n",
       "17733      17  169.500000  169.710000  169.370000  ...    0.000000   0.000000   \n",
       "17734      18  169.475000  169.690000  169.380000  ...    0.000000   0.000000   \n",
       "17735      19  169.655000  169.920000  169.610000  ...    0.000000   0.000000   \n",
       "\n",
       "       source8_y  source7_y  source6_y  source5_y  source4_y  source3_y  \\\n",
       "16083   0.000000   0.000000   0.000000        0.0        0.0        0.0   \n",
       "16084   0.000000   0.000000   0.000000        0.0        0.0        0.0   \n",
       "16085   0.000000   0.000000   0.000000        0.0        0.0        0.0   \n",
       "16086   0.000000   0.000000   0.000000        0.0        0.0        0.0   \n",
       "16087   0.000000   0.090812   0.046833        0.0        0.0        0.0   \n",
       "...          ...        ...        ...        ...        ...        ...   \n",
       "17731   0.000000   0.000000   0.000000        0.0        0.0        0.0   \n",
       "17732   0.000000   0.345585   0.000000        0.0        0.0        0.0   \n",
       "17733   0.000000   0.000000   0.000000        0.0        0.0        0.0   \n",
       "17734  -0.134847   0.000000   0.000000        0.0        0.0        0.0   \n",
       "17735   0.000000   0.000000   0.000000        0.0        0.0        0.0   \n",
       "\n",
       "       source2_y  source1_y  \n",
       "16083        0.0        0.0  \n",
       "16084        0.0        0.0  \n",
       "16085        0.0        0.0  \n",
       "16086        0.0        0.0  \n",
       "16087        0.0        0.0  \n",
       "...          ...        ...  \n",
       "17731        0.0        0.0  \n",
       "17732        0.0        0.0  \n",
       "17733        0.0        0.0  \n",
       "17734        0.0        0.0  \n",
       "17735        0.0        0.0  \n",
       "\n",
       "[663 rows x 35 columns]"
      ]
     },
     "execution_count": 21,
     "metadata": {},
     "output_type": "execute_result"
    }
   ],
   "source": [
    "df_validation"
   ]
  },
  {
   "cell_type": "code",
   "execution_count": 23,
   "id": "cc77e554-d7a5-4f9c-832d-936f3b5eccb7",
   "metadata": {},
   "outputs": [
    {
     "data": {
      "text/plain": [
       "0.08510382159680424"
      ]
     },
     "execution_count": 23,
     "metadata": {},
     "output_type": "execute_result"
    }
   ],
   "source": [
    "#SR\n",
    "# 5.33% https://www.federalreserve.gov/releases/h15/\n",
    "equity_sharpe(df_training,'close',0.0533/(252*12),5954)"
   ]
  },
  {
   "cell_type": "code",
   "execution_count": 24,
   "id": "be5375fc-3de7-49ec-aa16-d998d301cfef",
   "metadata": {},
   "outputs": [
    {
     "data": {
      "text/plain": [
       "-0.9703332523463752"
      ]
     },
     "execution_count": 24,
     "metadata": {},
     "output_type": "execute_result"
    }
   ],
   "source": [
    "equity_sharpe(df_validation,'close',0.0533/(252*12),663)"
   ]
  },
  {
   "cell_type": "code",
   "execution_count": null,
   "id": "22c43146-3b01-41c7-b8b4-675357ee58ef",
   "metadata": {},
   "outputs": [],
   "source": [
    "# ---------------- arrange columns-----------------------------"
   ]
  },
  {
   "cell_type": "code",
   "execution_count": null,
   "id": "5fa63ace-9a4a-491f-8ab6-520abbf6b198",
   "metadata": {},
   "outputs": [],
   "source": [
    "l1=list(df_training.columns)[2:55] #remove ticker, datetime "
   ]
  },
  {
   "cell_type": "code",
   "execution_count": null,
   "id": "ff0946ec-11c1-4856-b03f-c5a018164ca1",
   "metadata": {},
   "outputs": [],
   "source": []
  },
  {
   "cell_type": "code",
   "execution_count": null,
   "id": "88500001-ef18-4069-b744-4e30481cd6ab",
   "metadata": {},
   "outputs": [],
   "source": [
    "df_training=df_training[l1]"
   ]
  },
  {
   "cell_type": "code",
   "execution_count": null,
   "id": "780cdf26-271f-4ea4-a831-0d647b96865a",
   "metadata": {},
   "outputs": [],
   "source": [
    "df_validation=df_validation[l1]"
   ]
  },
  {
   "cell_type": "code",
   "execution_count": null,
   "id": "0aa33cf2-3449-43fa-a7a8-96755bb47226",
   "metadata": {},
   "outputs": [],
   "source": [
    " #---------------------------------------------------------------------"
   ]
  },
  {
   "cell_type": "code",
   "execution_count": null,
   "id": "9a6eef46-5525-4917-aa39-327e80efb116",
   "metadata": {},
   "outputs": [],
   "source": [
    "def _remove_linear_tendecy (x):\n",
    "    return np.ediff1d(x, to_begin=1)"
   ]
  },
  {
   "cell_type": "code",
   "execution_count": null,
   "id": "8a133fff-04d1-4480-92d5-2d61fcf141a6",
   "metadata": {},
   "outputs": [],
   "source": [
    "def _simple_net_return (x):\n",
    "    \"\"\"\n",
    "        Fractional change between the current and a prior element.\n",
    "        Computes the fractional change from the immediately previous row by default. \n",
    "        This is useful in comparing the fraction of change in a time series of elements.\n",
    "    \"\"\"\n",
    "    result=x.pct_change()\n",
    "    result.fillna(0,inplace=True)\n",
    "    return result"
   ]
  },
  {
   "cell_type": "code",
   "execution_count": null,
   "id": "5daf4d76-544b-4941-98e6-75ccd73226c5",
   "metadata": {},
   "outputs": [],
   "source": [
    "def _log_return (x):\n",
    "    result=np.log(x/x.shift(1))\n",
    "    result.fillna(0,inplace=True)\n",
    "    return (result)"
   ]
  },
  {
   "cell_type": "code",
   "execution_count": null,
   "id": "65f21c54-c173-401d-a379-7b897e8ba5cc",
   "metadata": {},
   "outputs": [],
   "source": [
    "\n",
    " #---------------------------------------------------------------------"
   ]
  },
  {
   "cell_type": "code",
   "execution_count": null,
   "id": "885e891a-0abd-4845-8b32-0e434bd286d5",
   "metadata": {},
   "outputs": [],
   "source": [
    "# #df_training is a DataFrame with columns : \"open\", \"high\", \"low\", \"close\", \"Volume USD\"\n",
    "for dataframe in ['df_training','df_validation']:\n",
    "    #---------------------------------------------------------------------\n",
    "    #eval(dataframe)[\"feature_nweek\"] = eval(dataframe)[\"n_weekday\"]\n",
    "    #eval(dataframe)[\"feature_holiday\"] =  eval(dataframe)[\"holidays\"]\n",
    "    #eval(dataframe)[\"feature_nhour\"] =  eval(dataframe)[\"n_hour\"]\n",
    "    \n",
    "    #Create the feature : ( close[t] - close[t-1] )/ close[t-1]\n",
    "    #df_training[\"diff_close\"] = df_training['close'].diff()\n",
    "    #eval(dataframe)[\"feature_close\"] = ( eval(dataframe)[\"close\"]) /  eval(dataframe)[\"close\"].abs().max() \n",
    "    #eval(dataframe)[\"feature_close\"] = _remove_linear_tendecy(eval(dataframe)[\"close\"]) \n",
    "    #eval(dataframe)[\"feature_close\"] = _simple_net_return(eval(dataframe)[\"close\"]) \n",
    "    eval(dataframe)[\"feature_close\"] = _log_return(eval(dataframe)[\"close\"]) \n",
    "    \n",
    "    # Create the feature : open[t] / close[t]\n",
    "    eval(dataframe)[\"feature_open\"] = _log_return(eval(dataframe)[\"open\"]) \n",
    "    #eval(dataframe)[\"feature_open\"] = ( eval(dataframe)[\"open\"])/  eval(dataframe)[\"close\"].abs().max() \n",
    "    \n",
    "    # Create the feature : high[t] / close[t]\n",
    "    eval(dataframe)[\"feature_high\"] = _log_return(eval(dataframe)[\"high\"]) \n",
    "    #eval(dataframe)[\"feature_high\"] = ( eval(dataframe)[\"high\"])/  eval(dataframe)[\"close\"].abs().max() \n",
    "    \n",
    "    # Create the feature : low[t] / close[t]\n",
    "    eval(dataframe)[\"feature_low\"] = _log_return(eval(dataframe)[\"low\"]) \n",
    "    #eval(dataframe)[\"feature_low\"]= ( eval(dataframe)[\"low\"])/  eval(dataframe)[\"close\"].abs().max() \n",
    "    \n",
    "    #eval(dataframe)[\"feature_volume\"] =  eval(dataframe)[\"volume\"].apply(lambda x: np.log(x) if x!=0 else x)/  eval(dataframe)[\"close\"].abs().max() \n",
    "    eval(dataframe)[\"feature_volume\"] = _log_return(eval(dataframe)[\"volume\"])   \n",
    "\n",
    "    # eval(dataframe)[\"feature_diff_close_open\"]=eval(dataframe)[\"feature_close\"]-eval(dataframe)[\"feature_open\"]\n",
    "    # eval(dataframe)[\"feature_diff_high_low\"]=eval(dataframe)[\"feature_high\"]-eval(dataframe)[\"feature_low\"]\n",
    "    #eval(dataframe)[\"feature_volume\"] =  eval(dataframe)[\"volume\"]/  (eval(dataframe)[\"close\"].abs().max()*1000000)\n",
    "    #create columns for  relevance_score (x) and ticket_sentiment_score (y)\n",
    "    #l1 is from 11 to 55 because I am selecting from score20_x to score1_y\n",
    "    for column in l1:\n",
    "        if \"source\" in column:\n",
    "            column_name=\"feature_\"+column\n",
    "            eval(dataframe)[column_name]= eval(dataframe)[column] \n",
    "    #---------------------------------------------------------------------\n",
    "    # create and ensamble for sentiment mutlping columns sum and dividing by 10\n",
    "    \n",
    "    # Step 1: Identify the columns\n",
    "    # columns_x = [col for col in eval(dataframe).columns if col.endswith('_x')]\n",
    "    # columns_y = [col for col in eval(dataframe).columns if col.endswith('_y')]\n",
    "    \n",
    "    # # Step 2: Multiply corresponding columns and sum\n",
    "    # sum_of_products=  np.empty(len(eval(dataframe)))\n",
    "    # for col_x, col_y in zip(columns_x, columns_y):\n",
    "    #     sum_of_products = sum_of_products+(eval(dataframe)[col_x]*eval(dataframe)[col_y])#multply columns and sume \n",
    "    # # Step 4: Divide by 10\n",
    "    # eval(dataframe)[\"feature_sentiment\"] = sum_of_products/10  \n",
    "\n",
    "    \n",
    "    #eval(dataframe).dropna(inplace= True) "
   ]
  },
  {
   "cell_type": "code",
   "execution_count": null,
   "id": "a379f18f-b5e9-4ace-ae7d-5a56d6d64a7b",
   "metadata": {},
   "outputs": [],
   "source": [
    "feature_list=[ x for x in list(df_training.columns) if \"feature_\" in x] #find all features in columns\n",
    "print(feature_list)"
   ]
  },
  {
   "cell_type": "code",
   "execution_count": null,
   "id": "40e8a0e2-0883-466f-97de-d2c266008107",
   "metadata": {},
   "outputs": [],
   "source": [
    "df_training.feature_sentiment"
   ]
  },
  {
   "cell_type": "code",
   "execution_count": null,
   "id": "03f892b1-aa71-434f-8676-9f29208ef9ca",
   "metadata": {},
   "outputs": [],
   "source": [
    "\n",
    "# #---------------------------- check for Nulls & NAN _ relevance_score -------------------\n",
    "# l1=list(df_training.columns)[11:55]\n",
    "# serie_1=df_training[l1].isna().sum()\n",
    "# serie_2=df_training[l1].isnull().sum()\n",
    "# pd.concat( [serie_1, serie_2], join='outer',keys = ['Nan','Null'], axis=1)"
   ]
  },
  {
   "cell_type": "code",
   "execution_count": null,
   "id": "ee3bc20c-f325-4dc8-a51b-c47d1603a16d",
   "metadata": {},
   "outputs": [],
   "source": [
    "#check validation notna in close columns\n",
    "df_validation.feature_close.notna().sum()"
   ]
  },
  {
   "cell_type": "code",
   "execution_count": null,
   "id": "73296e64-5879-41dd-8038-c46d4268ace3",
   "metadata": {},
   "outputs": [],
   "source": [
    "print(\"Training: \",df_training.shape)\n",
    "print(\"Validation: \",df_validation.shape)"
   ]
  },
  {
   "cell_type": "code",
   "execution_count": null,
   "id": "70a1b96b-41eb-410e-be1c-d7d3610a5346",
   "metadata": {},
   "outputs": [],
   "source": []
  },
  {
   "cell_type": "code",
   "execution_count": null,
   "id": "cdfde519-11ee-4320-9dab-663ed18aa38e",
   "metadata": {},
   "outputs": [],
   "source": [
    "#check if index is sorted. if yes ==Ture\n",
    "df_training.index.is_monotonic_increasing"
   ]
  },
  {
   "cell_type": "code",
   "execution_count": null,
   "id": "1f356631-5aee-4f96-83b7-4f64376ad3cd",
   "metadata": {},
   "outputs": [],
   "source": []
  },
  {
   "cell_type": "code",
   "execution_count": null,
   "id": "cf880491-80e9-4b80-8f5c-bd42a27a7760",
   "metadata": {},
   "outputs": [],
   "source": [
    "len(feature_list)"
   ]
  },
  {
   "cell_type": "code",
   "execution_count": null,
   "id": "974f5c32-2cfb-4a33-8461-f296003be859",
   "metadata": {},
   "outputs": [],
   "source": [
    "def complete_time (value):\n",
    "    \"\"\"\n",
    "    check if month, date, hour or minute are one character\n",
    "    or two character. if it is one character completes it with '0'\n",
    "    \"\"\"\n",
    "    if len(value)>1:\n",
    "        return value\n",
    "    else:\n",
    "        return '0'+value"
   ]
  },
  {
   "cell_type": "code",
   "execution_count": null,
   "id": "21c151ff-abe9-47fb-a2b6-372c31c739d4",
   "metadata": {},
   "outputs": [],
   "source": [
    "#Check folders to save output\n",
    "import datetime\n",
    "    \n",
    "YEAR        = str(datetime.date.today().year)     # the current year\n",
    "\n",
    "MONTH       = complete_time(str(datetime.date.today().month))   # the current month\n",
    "DATE        = complete_time(str(datetime.date.today().day))      # the current day\n",
    "HOUR        = complete_time(str(datetime.datetime.now().hour))   # the current hour\n",
    "MINUTE      = complete_time(str(datetime.datetime.now().minute)) # the current minute\n",
    "#SECONDS     = datetime.datetime.now().second #the current second\n",
    "string_folder=YEAR+MONTH+DATE+\"_\"+HOUR+MINUTE"
   ]
  },
  {
   "cell_type": "code",
   "execution_count": null,
   "id": "cd45064f-cf25-457c-b990-e2da8fb041ad",
   "metadata": {},
   "outputs": [],
   "source": [
    "string_folder"
   ]
  },
  {
   "cell_type": "code",
   "execution_count": null,
   "id": "1648e6f3-b15c-458f-a348-18fca7c8e67c",
   "metadata": {},
   "outputs": [],
   "source": [
    "PATH = './reports/'+string_folder+'/'\n",
    "if not os.path.exists(PATH):\n",
    "    os.makedirs(PATH)\n",
    "    # Creating folders for best DQN agents\n",
    "    PATH_EVAL=PATH+'agent_best_eval_models'+'/'\n",
    "    PATH_NEXT=PATH+'agent_best_next_models'+'/'\n",
    "    os.makedirs(PATH_EVAL)\n",
    "    os.makedirs(PATH_NEXT)\n",
    "    "
   ]
  },
  {
   "cell_type": "code",
   "execution_count": null,
   "id": "44cfa6fa-f6f2-4d86-9132-973ba49bc4e7",
   "metadata": {},
   "outputs": [],
   "source": [
    "\n",
    "logger=initLogging(PATH+\"output.log\",\"output\")\n"
   ]
  },
  {
   "cell_type": "code",
   "execution_count": null,
   "id": "429cacf2-1754-4105-af59-4a1652400359",
   "metadata": {},
   "outputs": [],
   "source": []
  },
  {
   "cell_type": "code",
   "execution_count": null,
   "id": "9c12be8d-4441-4d99-a263-117c9952be00",
   "metadata": {},
   "outputs": [],
   "source": [
    "if __name__ == '__main__':\n",
    "    tf.compat.v1.disable_eager_execution() #improve \n",
    "    #manage_memory()\n",
    "    #----------------Training----------------\n",
    "    env = TradingEnv(\n",
    "        name= \"AAPL\",\n",
    "        df = df_training, # Your dataset with your custom features\n",
    "        positions = [0, 1], # -1 (=SHORT), 0(=OUT), +1 (=LONG)\n",
    "        portfolio_initial_value=100,\n",
    "        initial_position=1,\n",
    "        \n",
    "        obs_columns=feature_list, #automatically set columns as input\n",
    "        \n",
    "        #trading_fees = 0.01/100, # 0.01% per stock buy / sell (Binance fees)\n",
    "        trading_fees =0,\n",
    "        #borrow_interest_rate= 0.0003/100, # 0.0003% per timestep (one timestep = 1h here)\n",
    "        borrow_interest_rate= 0,\n",
    "        verbose=1\n",
    "    )\n",
    "    #----------------Validation----------------\n",
    "    env_val = TradingEnv(\n",
    "        name= \"AAPL\",\n",
    "        df = df_validation, # Your dataset with your custom features\n",
    "        positions = [0, 1], # -1 (=SHORT), 0(=OUT), +1 (=LONG)\n",
    "        portfolio_initial_value=100,\n",
    "        initial_position=1,\n",
    "\n",
    "        obs_columns=feature_list, #automatically set columns as input\n",
    "        \n",
    "        trading_fees =0,\n",
    "        borrow_interest_rate= 0,\n",
    "        verbose=1\n",
    "    )\n",
    "    \n",
    "    best_score = -np.inf\n",
    "    load_checkpoint = False\n",
    "    record_agent = False\n",
    "    n_games = NUMBER_GAMES\n",
    "    \n",
    "    #----------------------------------- create agent brain --------------------------------------------------------\n",
    "    # Epsilon should be in 0 because I need the agent's brain tries to predidct and it must not select action by random.\n",
    "    agent_brain = Agent( mem_size=MEMORY_SIZE, replace=REPLACE*len(df_training),\n",
    "                  \n",
    "                  epsilon=EPSILON_START, eps_dec=EPSILON_DECAY, eps_min=EPSILON_END,\n",
    "                  #input_dims=env.observation_space.shape,n_actions=env.action_space.n, \n",
    "                   \n",
    "                  input_dims=env.observation_space,n_actions=len(env.action_space),\n",
    "                  gamma=GAMMA,lr=LEARNING_RATE, batch_size=BATCH_SIZE ,# batch_size=32 ATTENTION\n",
    "                  n_neurons1=NEURONS_1,n_neurons2=NEURONS_2,\n",
    "                  \n",
    "                  dir=PATH_EVAL, dir2=PATH_NEXT,\n",
    "                  env_name='Trading_bot',\n",
    "                  #-----------------------------------------\n",
    "                 #this is only for re-train previous model\n",
    "                  new_model=True, #If TRUE new model is created otherwise a model image is uploaded\n",
    "                  #-----------------------------------------\n",
    "                  path_model='./reports/20240507_0945/model_q_eval'  #this path is with error if I have forgotten to set True before  \n",
    "                       )\n",
    "\n",
    "    #----------------------------------- create Target agent brain --------------------------------------------------------\n",
    "    logger.info(print(\"Create Policy model ... \"))\n",
    "    agent_brain.policy_net.summary()\n",
    "    agent_brain.policy_net.summary(print_fn=logger.info)\n",
    "    #----------------------------------- create ORACLE agent brain --------------------------------------------------------\n",
    "    logger.info(print(\"Create Policy model ... \"))\n",
    "    agent_brain.target_net.summary()\n",
    "    agent_brain.target_net.summary(print_fn=logger.info)\n",
    "    #----------------------------------- -----------------------------------------------------------------------------------\n",
    "  \n",
    "    \n",
    "    logger.info('i,market_return,pr,Sharpe,score,avg_score,best_score,loss,n_steps,market_return_val,pr_val,score_val, avg_score_val')\n",
    "    \n",
    "    scores, eps_history, steps_array, losses,portfolios,scores_val,portfolios_val = [], [], [], [],[],[],[]    \n",
    "    for i in range(n_games):\n",
    "       \n",
    "        done = False\n",
    "        score = 0\n",
    "        terminated = False\n",
    "        truncated =False\n",
    "        done=(terminated|truncated)\n",
    "        #actual_obs=env.reset(seed=7)[0]# I had to do this because array is not two parameters due to new gym version\n",
    "        actual_obs,info=env.reset(seed=7)\n",
    "        start_time = time.time()\n",
    "        \n",
    "        while not done: #playing one game.\n",
    "            action = agent_brain.choose_action(actual_obs,True)\n",
    "            #print(\"env.step_action \",action)\n",
    "            new_obs, reward, terminated,truncated,info = env.step(action)\n",
    "            #----------------------------------------------------------------------\n",
    "            #   New GYM version needs to create done from Terminadted and Truncated (after 200)\n",
    "            done=(terminated|truncated)\n",
    "            #-----------------------------------------------------------------------    \n",
    "            score += reward\n",
    "\n",
    "            #print(actual_obs)\n",
    "            agent_brain.store_transition(actual_obs, action,reward, new_obs, done)\n",
    "        \n",
    "            #--------------------------------------\n",
    "            #New observaction is tronsformed to actual_obs\n",
    "            actual_obs = new_obs\n",
    "            #-----------------------------------------\n",
    "            #-----------------------------------------\n",
    "            # start to train\n",
    "            loss=agent_brain.learn()\n",
    "            #------------------------------------------\n",
    "            \n",
    "        #----------------------------- Validation ------------------\n",
    "     \n",
    "        score_val=0\n",
    "        terminated_val = False\n",
    "        truncated_val =False\n",
    "        \n",
    "        done_val=(terminated_val|truncated_val)\n",
    "        actual_obs_val,info_val=env_val.reset(seed=357)\n",
    "        while not done_val: #playing one game.\n",
    "            action_val= agent_brain.choose_action(actual_obs_val,False)\n",
    "            #print(\"env.step_action \",action)\n",
    "            new_obs_val, reward_val, terminated_val,truncated_val,info_val = env_val.step(action_val)\n",
    "            #----------------------------------------------------------------------\n",
    "            #   New GYM version needs to create done from Terminadted and Truncated (after 200)\n",
    "            done_val=(terminated_val|truncated_val)\n",
    "            #-----------------------------------------------------------------------    \n",
    "            score_val+=reward_val\n",
    "\n",
    "             #print(actual_obs)\n",
    "            #agent_brain.store_transition(actual_obs, action,reward, new_obs, done)\n",
    "        \n",
    "            #--------------------------------------\n",
    "            #New observaction is tronsformed to actual_obs\n",
    "            actual_obs_val = new_obs_val\n",
    "\n",
    "        #----------------------------- Metrics ------------------\n",
    "        \n",
    "        eps_history.append(agent_brain.epsilon)\n",
    "        scores.append(score)\n",
    "        scores_val.append(score_val)\n",
    "        losses.append(loss)\n",
    "        #print(\"Score: \", score, \" Loss: \", loss)\n",
    "        steps_array.append(agent_brain.learn_step_counter)\n",
    "        \n",
    "        pr=(100*(env.df.loc[env._idx,'portfolio_valuation'] / env.df.loc[0,'portfolio_valuation'] -1))\n",
    "        portfolios.append(pr)\n",
    "        \n",
    "        pr_val=(100*(env_val.df.loc[env_val._idx,'portfolio_valuation'] / env_val.df.loc[0,'portfolio_valuation'] -1))\n",
    "        portfolios_val.append(pr_val)\n",
    "        \n",
    "        #This is the average score. From the last 100 scores\n",
    "        avg_score = np.mean(scores[-100:])\n",
    "        avg_score_val = np.mean(scores_val[-100:])\n",
    "        market_return=(100*(env.df.loc[env._idx,'close'] / env.df.loc[0,'close'] -1))\n",
    "        market_return_val=(100*(env_val.df.loc[env_val._idx,'close'] / env_val.df.loc[0,'close'] -1))\n",
    " \n",
    "        #----------------------------sharpe value\n",
    "        Rx=((env.df.iloc[-1,:]['portfolio_valuation']/env.df.iloc[0,:]['portfolio_valuation'])-1)*100\n",
    "        rt=3\n",
    "        Std=np.std(env.df['portfolio_valuation'])\n",
    "        Sharpe=(Rx-rt)/Std\n",
    "        #--------------------------------------------------------------------------------------\n",
    "        print(\"--- %s seconds ---\" % (time.time() - start_time))\n",
    "        print(\"-------------------------------------------------------------------------------------------------------\")\n",
    "        print('episode {} | MarketReturn {:.2f} | PortfolioReturn {:.2f} | Sharpe {:.2f} | score {:.1f} |  avg score {:.1f} | best score {:.1f} | loss {:.4f} | steps {}'\\\n",
    "              .format(i, market_return,pr,Sharpe,score, avg_score, best_score,loss, agent_brain.learn_step_counter))\n",
    "        print(' MarketReturn_val  {:.2f} |PortfolioReturn_val {:.2f} |  score_val {:.1f} | avg score_val {:.1f} '\\\n",
    "              .format(market_return_val,pr_val,score_val, avg_score_val))\n",
    "        print(\"-------------------------------------------------------------------------------------------------------\")\n",
    "        logger.info(f'{i},{market_return},{pr},{Sharpe},{score},{avg_score},{best_score},{loss},{agent_brain.learn_step_counter},{market_return_val},{pr_val},{score_val}, {avg_score_val}')\n",
    "        if score > best_score:\n",
    "            if not load_checkpoint:\n",
    "                agent_brain.save_models()\n",
    "            best_score = score\n",
    "\n",
    "        "
   ]
  },
  {
   "cell_type": "code",
   "execution_count": null,
   "id": "f668cec5-c23d-46ef-bab4-4620aba3f7fd",
   "metadata": {},
   "outputs": [],
   "source": [
    "\n",
    " "
   ]
  },
  {
   "cell_type": "code",
   "execution_count": null,
   "id": "72166868-95a7-4afc-bcfb-75aa9bcebcf7",
   "metadata": {},
   "outputs": [],
   "source": [
    "#turn off logger\n",
    "logger=turn_of_logger()\n"
   ]
  },
  {
   "cell_type": "code",
   "execution_count": null,
   "id": "3a5cd4e7-4b11-432f-bdca-be58997a3413",
   "metadata": {},
   "outputs": [],
   "source": [
    "x = [j+1 for j in range(len(scores))]\n",
    "agent_brain.policy_net.save(PATH+'model_q_eval.h5')"
   ]
  },
  {
   "cell_type": "code",
   "execution_count": null,
   "id": "2a83f996-59ec-430e-b8f0-bc47e28ae79d",
   "metadata": {},
   "outputs": [],
   "source": [
    "                                                                                                                                                                                                                                                                                                                                                                                                                                                                                                                                                                                                                                                                                                                                                                                                                                                                                                                                                                                                                                                                                                                                                                                                                                                                                                                                                                                                                           \n"
   ]
  },
  {
   "cell_type": "code",
   "execution_count": null,
   "id": "35e1b755-0f3c-4ba7-976a-4f0ea97e1a35",
   "metadata": {},
   "outputs": [],
   "source": []
  },
  {
   "cell_type": "code",
   "execution_count": null,
   "id": "c9ae114f-f543-4641-b636-cc7181af627e",
   "metadata": {},
   "outputs": [],
   "source": [
    "linear_chart_score(steps_array,scores,PATH)"
   ]
  },
  {
   "cell_type": "code",
   "execution_count": null,
   "id": "c6b3333c-7617-4701-b17e-4beb8c88116d",
   "metadata": {},
   "outputs": [],
   "source": [
    "linear_chart_score(steps_array,scores_val,PATH)"
   ]
  },
  {
   "cell_type": "code",
   "execution_count": null,
   "id": "833e5757-839a-4e37-8ccc-b5d7ab478a4e",
   "metadata": {},
   "outputs": [],
   "source": [
    "linear_chart_loss(steps_array,losses,PATH,10)"
   ]
  },
  {
   "cell_type": "code",
   "execution_count": null,
   "id": "9421fd65-181e-455f-9a63-d6eff2fa5fd9",
   "metadata": {},
   "outputs": [],
   "source": [
    "linear_chart_portfolio(steps_array,portfolios,PATH)"
   ]
  },
  {
   "cell_type": "code",
   "execution_count": null,
   "id": "37e6ea54-0259-4c51-8235-baf954ec6ceb",
   "metadata": {},
   "outputs": [],
   "source": [
    "env.df.to_csv(f\"{PATH}df_{string_folder}.csv\")"
   ]
  },
  {
   "cell_type": "code",
   "execution_count": null,
   "id": "08ac9076-5452-4425-9ad8-9ac58fe35c28",
   "metadata": {},
   "outputs": [],
   "source": []
  },
  {
   "cell_type": "code",
   "execution_count": null,
   "id": "a0253a19-2dc2-45c1-9649-3c71c273501d",
   "metadata": {},
   "outputs": [],
   "source": [
    "env.df.head(50)"
   ]
  },
  {
   "cell_type": "code",
   "execution_count": null,
   "id": "35dfa8c4-0ee3-478a-954f-7fa2033ccf99",
   "metadata": {},
   "outputs": [],
   "source": [
    "env_val.df.tail(50)"
   ]
  },
  {
   "cell_type": "code",
   "execution_count": null,
   "id": "99eb181d-4f24-4def-97d1-e2b808072ed5",
   "metadata": {},
   "outputs": [],
   "source": []
  },
  {
   "cell_type": "code",
   "execution_count": null,
   "id": "c8c5c175-59f7-46d3-ac72-e177b5f99299",
   "metadata": {},
   "outputs": [],
   "source": []
  },
  {
   "cell_type": "code",
   "execution_count": null,
   "id": "08d60a69-5380-4f01-b351-2b1736baab0e",
   "metadata": {},
   "outputs": [],
   "source": []
  },
  {
   "cell_type": "code",
   "execution_count": null,
   "id": "2fd266a0-95c2-4fd6-ae86-4925c793aa59",
   "metadata": {},
   "outputs": [],
   "source": []
  },
  {
   "cell_type": "code",
   "execution_count": null,
   "id": "c6b79c20-e691-400a-a37f-0f2236e82c06",
   "metadata": {},
   "outputs": [],
   "source": []
  },
  {
   "cell_type": "code",
   "execution_count": null,
   "id": "38e7f1e2-c812-48b7-8016-84c7b33ccefe",
   "metadata": {},
   "outputs": [],
   "source": []
  },
  {
   "cell_type": "code",
   "execution_count": null,
   "id": "8a011bd0-3578-4822-8d03-0fe0e1cd9785",
   "metadata": {},
   "outputs": [],
   "source": []
  },
  {
   "cell_type": "code",
   "execution_count": null,
   "id": "4fbe6cd1-e7e0-4731-bbc0-4cadee0d6373",
   "metadata": {},
   "outputs": [],
   "source": []
  }
 ],
 "metadata": {
  "kernelspec": {
   "display_name": "Python 3 (ipykernel)",
   "language": "python",
   "name": "python3"
  },
  "language_info": {
   "codemirror_mode": {
    "name": "ipython",
    "version": 3
   },
   "file_extension": ".py",
   "mimetype": "text/x-python",
   "name": "python",
   "nbconvert_exporter": "python",
   "pygments_lexer": "ipython3",
   "version": "3.10.12"
  }
 },
 "nbformat": 4,
 "nbformat_minor": 5
}
